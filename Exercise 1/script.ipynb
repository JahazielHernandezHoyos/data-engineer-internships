{
 "cells": [
  {
   "attachments": {},
   "cell_type": "markdown",
   "metadata": {},
   "source": [
    "## Extract information for the list cities\n",
    "\n",
    "In this Jupyter Notebook, there are multiple cells containing code that can be executed independently. The notebook already has some cells with code that extract information for a list of cities and plot a dashboard with all the data in Plotly. A new cell has been created that imports necessary modules, defines a dictionary of cities and their country codes, and fetches weather data for those cities using the OpenWeatherMap API. The fetched data is stored in a list called `weather_data`. The purpose of this notebook is to extract and visualize weather data for a list of cities."
   ]
  },
  {
   "cell_type": "code",
   "execution_count": null,
   "metadata": {},
   "outputs": [],
   "source": [
    "import requests\n",
    "import pandas as pd\n",
    "import plotly.express as px\n",
    "\n",
    "# 👀 I did not put these data in a .env file for simplicity of the test\n",
    "API_URL = \"http://api.openweathermap.org/data/2.5/weather\"\n",
    "API_KEY = \"880b376c434ee3b2b13618ef4d3e2357\"\n",
    "\n",
    "cities = {\n",
    "    \"Bogota\": \"CO\",\n",
    "    \"Medellin\": \"CO\",\n",
    "    \"Cali\": \"CO\",\n",
    "    \"Barranquilla\": \"CO\",\n",
    "    \"Cartagena\": \"CO\",\n",
    "}  # 👀 You can add any number of cities without any problem or reemplace json for most cities in the world\n",
    "\n",
    "\n",
    "def fetch_weather(city, country):\n",
    "    \"\"\"\n",
    "    Fetches the weather data for a given city and country using the OpenWeatherMap API.\n",
    "\n",
    "    Args:\n",
    "        city (str): The name of the city.\n",
    "        country (str): The country code of the city.\n",
    "\n",
    "    Returns:\n",
    "        dict: A dictionary containing the weather data for the given city and country.\n",
    "    \"\"\"\n",
    "    complete_url = f\"{API_URL}?q={city},{country}&appid={API_KEY}\"\n",
    "    response = requests.get(complete_url, timeout=10)\n",
    "    return response.json()\n",
    "\n",
    "\n",
    "weather_data = [fetch_weather(city, country) for city, country in cities.items()]"
   ]
  },
  {
   "attachments": {},
   "cell_type": "markdown",
   "metadata": {},
   "source": [
    "## Plot dashboard with all the data in the plotly "
   ]
  },
  {
   "cell_type": "code",
   "execution_count": null,
   "metadata": {},
   "outputs": [],
   "source": [
    "# Export and visualization preview\n",
    "\n",
    "df = pd.DataFrame(weather_data)\n",
    "df.to_csv(\"weather_data.csv\")\n",
    "df.head()"
   ]
  },
  {
   "cell_type": "code",
   "execution_count": null,
   "metadata": {},
   "outputs": [],
   "source": [
    "fig = px.bar(df, x=\"name\", y=df[\"main\"].apply(lambda x: x[\"temp_max\"]), color=\"name\", title=\"Current Temperature by City\")\n",
    "fig.show()"
   ]
  }
 ],
 "metadata": {
  "language_info": {
   "name": "python"
  },
  "orig_nbformat": 4
 },
 "nbformat": 4,
 "nbformat_minor": 2
}
