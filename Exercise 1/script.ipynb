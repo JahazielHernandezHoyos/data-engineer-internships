{
 "cells": [
  {
   "attachments": {},
   "cell_type": "markdown",
   "metadata": {},
   "source": [
    "## Extract information for the list cities\n",
    "\n",
    "In this Jupyter Notebook, there are multiple cells containing code that can be executed independently. The notebook already has some cells with code that extract information for a list of cities and plot a dashboard with all the data in Plotly. A new cell has been created that imports necessary modules, defines a dictionary of cities and their country codes, and fetches weather data for those cities using the OpenWeatherMap API. The fetched data is stored in a list called `weather_data`. The purpose of this notebook is to extract and visualize weather data for a list of cities."
   ]
  },
  {
   "cell_type": "code",
   "execution_count": 1,
   "metadata": {},
   "outputs": [],
   "source": [
    "import requests\n",
    "import pandas as pd\n",
    "import plotly.express as px\n",
    "\n",
    "# 👀 I did not put these data in a .env file for simplicity of the test\n",
    "API_URL = \"http://api.openweathermap.org/data/2.5/weather\"\n",
    "API_KEY = \"880b376c434ee3b2b13618ef4d3e2357\"\n",
    "\n",
    "cities = {\n",
    "    \"Bogota\": \"CO\",\n",
    "    \"Medellin\": \"CO\",\n",
    "    \"Cali\": \"CO\",\n",
    "    \"Barranquilla\": \"CO\",\n",
    "    \"Cartagena\": \"CO\",\n",
    "}  # 👀 You can add any number of cities without any problem or reemplace json for most cities in the world\n",
    "\n",
    "\n",
    "def fetch_weather(city, country):\n",
    "    \"\"\"\n",
    "    Fetches the weather data for a given city and country using the OpenWeatherMap API.\n",
    "\n",
    "    Args:\n",
    "        city (str): The name of the city.\n",
    "        country (str): The country code of the city.\n",
    "\n",
    "    Returns:\n",
    "        dict: A dictionary containing the weather data for the given city and country.\n",
    "    \"\"\"\n",
    "    complete_url = f\"{API_URL}?q={city},{country}&appid={API_KEY}\"\n",
    "    response = requests.get(complete_url, timeout=10)\n",
    "    return response.json()\n",
    "\n",
    "\n",
    "weather_data = [fetch_weather(city, country) for city, country in cities.items()]"
   ]
  },
  {
   "attachments": {},
   "cell_type": "markdown",
   "metadata": {},
   "source": [
    "## Plot dashboard with all the data in the plotly "
   ]
  },
  {
   "cell_type": "code",
   "execution_count": 2,
   "metadata": {},
   "outputs": [
    {
     "data": {
      "text/html": [
       "<div>\n",
       "<style scoped>\n",
       "    .dataframe tbody tr th:only-of-type {\n",
       "        vertical-align: middle;\n",
       "    }\n",
       "\n",
       "    .dataframe tbody tr th {\n",
       "        vertical-align: top;\n",
       "    }\n",
       "\n",
       "    .dataframe thead th {\n",
       "        text-align: right;\n",
       "    }\n",
       "</style>\n",
       "<table border=\"1\" class=\"dataframe\">\n",
       "  <thead>\n",
       "    <tr style=\"text-align: right;\">\n",
       "      <th></th>\n",
       "      <th>coord</th>\n",
       "      <th>weather</th>\n",
       "      <th>base</th>\n",
       "      <th>main</th>\n",
       "      <th>visibility</th>\n",
       "      <th>wind</th>\n",
       "      <th>clouds</th>\n",
       "      <th>dt</th>\n",
       "      <th>sys</th>\n",
       "      <th>timezone</th>\n",
       "      <th>id</th>\n",
       "      <th>name</th>\n",
       "      <th>cod</th>\n",
       "    </tr>\n",
       "  </thead>\n",
       "  <tbody>\n",
       "    <tr>\n",
       "      <th>0</th>\n",
       "      <td>{'lon': -74.0817, 'lat': 4.6097}</td>\n",
       "      <td>[{'id': 802, 'main': 'Clouds', 'description': ...</td>\n",
       "      <td>stations</td>\n",
       "      <td>{'temp': 288.88, 'feels_like': 288.39, 'temp_m...</td>\n",
       "      <td>10000</td>\n",
       "      <td>{'speed': 1.54, 'deg': 110}</td>\n",
       "      <td>{'all': 40}</td>\n",
       "      <td>1688606001</td>\n",
       "      <td>{'type': 1, 'id': 8582, 'country': 'CO', 'sunr...</td>\n",
       "      <td>-18000</td>\n",
       "      <td>3688689</td>\n",
       "      <td>Bogota</td>\n",
       "      <td>200</td>\n",
       "    </tr>\n",
       "    <tr>\n",
       "      <th>1</th>\n",
       "      <td>{'lon': -75.5636, 'lat': 6.2518}</td>\n",
       "      <td>[{'id': 803, 'main': 'Clouds', 'description': ...</td>\n",
       "      <td>stations</td>\n",
       "      <td>{'temp': 293.32, 'feels_like': 294, 'temp_min'...</td>\n",
       "      <td>4000</td>\n",
       "      <td>{'speed': 4.63, 'deg': 130}</td>\n",
       "      <td>{'all': 75}</td>\n",
       "      <td>1688605913</td>\n",
       "      <td>{'type': 2, 'id': 2083851, 'country': 'CO', 's...</td>\n",
       "      <td>-18000</td>\n",
       "      <td>3674962</td>\n",
       "      <td>Medellín</td>\n",
       "      <td>200</td>\n",
       "    </tr>\n",
       "    <tr>\n",
       "      <th>2</th>\n",
       "      <td>{'lon': -76.5225, 'lat': 3.4372}</td>\n",
       "      <td>[{'id': 803, 'main': 'Clouds', 'description': ...</td>\n",
       "      <td>stations</td>\n",
       "      <td>{'temp': 297.15, 'feels_like': 297.51, 'temp_m...</td>\n",
       "      <td>10000</td>\n",
       "      <td>{'speed': 4.63, 'deg': 20}</td>\n",
       "      <td>{'all': 75}</td>\n",
       "      <td>1688605965</td>\n",
       "      <td>{'type': 1, 'id': 8590, 'country': 'CO', 'sunr...</td>\n",
       "      <td>-18000</td>\n",
       "      <td>3687925</td>\n",
       "      <td>Santiago de Cali</td>\n",
       "      <td>200</td>\n",
       "    </tr>\n",
       "    <tr>\n",
       "      <th>3</th>\n",
       "      <td>{'lon': -74.7964, 'lat': 10.9639}</td>\n",
       "      <td>[{'id': 801, 'main': 'Clouds', 'description': ...</td>\n",
       "      <td>stations</td>\n",
       "      <td>{'temp': 302.03, 'feels_like': 308.42, 'temp_m...</td>\n",
       "      <td>10000</td>\n",
       "      <td>{'speed': 3.6, 'deg': 20}</td>\n",
       "      <td>{'all': 20}</td>\n",
       "      <td>1688606014</td>\n",
       "      <td>{'type': 1, 'id': 8584, 'country': 'CO', 'sunr...</td>\n",
       "      <td>-18000</td>\n",
       "      <td>3689147</td>\n",
       "      <td>Barranquilla</td>\n",
       "      <td>200</td>\n",
       "    </tr>\n",
       "    <tr>\n",
       "      <th>4</th>\n",
       "      <td>{'lon': -75.5144, 'lat': 10.3997}</td>\n",
       "      <td>[{'id': 802, 'main': 'Clouds', 'description': ...</td>\n",
       "      <td>stations</td>\n",
       "      <td>{'temp': 302.94, 'feels_like': 309.91, 'temp_m...</td>\n",
       "      <td>10000</td>\n",
       "      <td>{'speed': 3.09, 'deg': 10}</td>\n",
       "      <td>{'all': 40}</td>\n",
       "      <td>1688605716</td>\n",
       "      <td>{'type': 1, 'id': 8588, 'country': 'CO', 'sunr...</td>\n",
       "      <td>-18000</td>\n",
       "      <td>3687238</td>\n",
       "      <td>Cartagena</td>\n",
       "      <td>200</td>\n",
       "    </tr>\n",
       "  </tbody>\n",
       "</table>\n",
       "</div>"
      ],
      "text/plain": [
       "                               coord  \\\n",
       "0   {'lon': -74.0817, 'lat': 4.6097}   \n",
       "1   {'lon': -75.5636, 'lat': 6.2518}   \n",
       "2   {'lon': -76.5225, 'lat': 3.4372}   \n",
       "3  {'lon': -74.7964, 'lat': 10.9639}   \n",
       "4  {'lon': -75.5144, 'lat': 10.3997}   \n",
       "\n",
       "                                             weather      base  \\\n",
       "0  [{'id': 802, 'main': 'Clouds', 'description': ...  stations   \n",
       "1  [{'id': 803, 'main': 'Clouds', 'description': ...  stations   \n",
       "2  [{'id': 803, 'main': 'Clouds', 'description': ...  stations   \n",
       "3  [{'id': 801, 'main': 'Clouds', 'description': ...  stations   \n",
       "4  [{'id': 802, 'main': 'Clouds', 'description': ...  stations   \n",
       "\n",
       "                                                main  visibility  \\\n",
       "0  {'temp': 288.88, 'feels_like': 288.39, 'temp_m...       10000   \n",
       "1  {'temp': 293.32, 'feels_like': 294, 'temp_min'...        4000   \n",
       "2  {'temp': 297.15, 'feels_like': 297.51, 'temp_m...       10000   \n",
       "3  {'temp': 302.03, 'feels_like': 308.42, 'temp_m...       10000   \n",
       "4  {'temp': 302.94, 'feels_like': 309.91, 'temp_m...       10000   \n",
       "\n",
       "                          wind       clouds          dt  \\\n",
       "0  {'speed': 1.54, 'deg': 110}  {'all': 40}  1688606001   \n",
       "1  {'speed': 4.63, 'deg': 130}  {'all': 75}  1688605913   \n",
       "2   {'speed': 4.63, 'deg': 20}  {'all': 75}  1688605965   \n",
       "3    {'speed': 3.6, 'deg': 20}  {'all': 20}  1688606014   \n",
       "4   {'speed': 3.09, 'deg': 10}  {'all': 40}  1688605716   \n",
       "\n",
       "                                                 sys  timezone       id  \\\n",
       "0  {'type': 1, 'id': 8582, 'country': 'CO', 'sunr...    -18000  3688689   \n",
       "1  {'type': 2, 'id': 2083851, 'country': 'CO', 's...    -18000  3674962   \n",
       "2  {'type': 1, 'id': 8590, 'country': 'CO', 'sunr...    -18000  3687925   \n",
       "3  {'type': 1, 'id': 8584, 'country': 'CO', 'sunr...    -18000  3689147   \n",
       "4  {'type': 1, 'id': 8588, 'country': 'CO', 'sunr...    -18000  3687238   \n",
       "\n",
       "               name  cod  \n",
       "0            Bogota  200  \n",
       "1          Medellín  200  \n",
       "2  Santiago de Cali  200  \n",
       "3      Barranquilla  200  \n",
       "4         Cartagena  200  "
      ]
     },
     "execution_count": 2,
     "metadata": {},
     "output_type": "execute_result"
    }
   ],
   "source": [
    "# Export and visualization preview\n",
    "\n",
    "df = pd.DataFrame(weather_data)\n",
    "df.to_csv(\"weather_data.csv\")\n",
    "df.head()\n"
   ]
  },
  {
   "cell_type": "code",
   "execution_count": 8,
   "metadata": {},
   "outputs": [
    {
     "data": {
      "application/vnd.plotly.v1+json": {
       "config": {
        "plotlyServerURL": "https://plot.ly"
       },
       "data": [
        {
         "alignmentgroup": "True",
         "customdata": [
          [
           "CO",
           16.730000000000018,
           72,
           3.09,
           "broken clouds"
          ]
         ],
         "hovertemplate": "City=%{x}<br>Temperature (F)=%{y}<br>Country=%{customdata[0]}<br>Temperature (C)=%{customdata[1]}<br>Humidity=%{customdata[2]}<br>Wind Speed (m/s)=%{customdata[3]}<br>Weather Description=%{customdata[4]}<extra></extra>",
         "legendgroup": "Bogota",
         "marker": {
          "color": "#636efa",
          "pattern": {
           "shape": ""
          }
         },
         "name": "Bogota",
         "offsetgroup": "Bogota",
         "orientation": "v",
         "showlegend": true,
         "textposition": "auto",
         "type": "bar",
         "x": [
          "Bogota"
         ],
         "xaxis": "x",
         "y": [
          62.11400000000003
         ],
         "yaxis": "y"
        },
        {
         "alignmentgroup": "True",
         "customdata": [
          [
           "CO",
           22.660000000000025,
           75,
           8.23,
           "moderate rain"
          ]
         ],
         "hovertemplate": "City=%{x}<br>Temperature (F)=%{y}<br>Country=%{customdata[0]}<br>Temperature (C)=%{customdata[1]}<br>Humidity=%{customdata[2]}<br>Wind Speed (m/s)=%{customdata[3]}<br>Weather Description=%{customdata[4]}<extra></extra>",
         "legendgroup": "Medellín",
         "marker": {
          "color": "#EF553B",
          "pattern": {
           "shape": ""
          }
         },
         "name": "Medellín",
         "offsetgroup": "Medellín",
         "orientation": "v",
         "showlegend": true,
         "textposition": "auto",
         "type": "bar",
         "x": [
          "Medellín"
         ],
         "xaxis": "x",
         "y": [
          72.78800000000004
         ],
         "yaxis": "y"
        },
        {
         "alignmentgroup": "True",
         "customdata": [
          [
           "CO",
           24,
           73,
           5.66,
           "light rain"
          ]
         ],
         "hovertemplate": "City=%{x}<br>Temperature (F)=%{y}<br>Country=%{customdata[0]}<br>Temperature (C)=%{customdata[1]}<br>Humidity=%{customdata[2]}<br>Wind Speed (m/s)=%{customdata[3]}<br>Weather Description=%{customdata[4]}<extra></extra>",
         "legendgroup": "Santiago de Cali",
         "marker": {
          "color": "#00cc96",
          "pattern": {
           "shape": ""
          }
         },
         "name": "Santiago de Cali",
         "offsetgroup": "Santiago de Cali",
         "orientation": "v",
         "showlegend": true,
         "textposition": "auto",
         "type": "bar",
         "x": [
          "Santiago de Cali"
         ],
         "xaxis": "x",
         "y": [
          75.2
         ],
         "yaxis": "y"
        },
        {
         "alignmentgroup": "True",
         "customdata": [
          [
           "CO",
           29.879999999999995,
           79,
           4.12,
           "scattered clouds"
          ]
         ],
         "hovertemplate": "City=%{x}<br>Temperature (F)=%{y}<br>Country=%{customdata[0]}<br>Temperature (C)=%{customdata[1]}<br>Humidity=%{customdata[2]}<br>Wind Speed (m/s)=%{customdata[3]}<br>Weather Description=%{customdata[4]}<extra></extra>",
         "legendgroup": "Barranquilla",
         "marker": {
          "color": "#ab63fa",
          "pattern": {
           "shape": ""
          }
         },
         "name": "Barranquilla",
         "offsetgroup": "Barranquilla",
         "orientation": "v",
         "showlegend": true,
         "textposition": "auto",
         "type": "bar",
         "x": [
          "Barranquilla"
         ],
         "xaxis": "x",
         "y": [
          85.78399999999999
         ],
         "yaxis": "y"
        },
        {
         "alignmentgroup": "True",
         "customdata": [
          [
           "CO",
           30.79000000000002,
           74,
           4.12,
           "light rain"
          ]
         ],
         "hovertemplate": "City=%{x}<br>Temperature (F)=%{y}<br>Country=%{customdata[0]}<br>Temperature (C)=%{customdata[1]}<br>Humidity=%{customdata[2]}<br>Wind Speed (m/s)=%{customdata[3]}<br>Weather Description=%{customdata[4]}<extra></extra>",
         "legendgroup": "Cartagena",
         "marker": {
          "color": "#FFA15A",
          "pattern": {
           "shape": ""
          }
         },
         "name": "Cartagena",
         "offsetgroup": "Cartagena",
         "orientation": "v",
         "showlegend": true,
         "textposition": "auto",
         "type": "bar",
         "x": [
          "Cartagena"
         ],
         "xaxis": "x",
         "y": [
          87.42200000000004
         ],
         "yaxis": "y"
        }
       ],
       "layout": {
        "barmode": "relative",
        "legend": {
         "title": {
          "text": "City"
         },
         "tracegroupgap": 0
        },
        "template": {
         "data": {
          "bar": [
           {
            "error_x": {
             "color": "#2a3f5f"
            },
            "error_y": {
             "color": "#2a3f5f"
            },
            "marker": {
             "line": {
              "color": "#E5ECF6",
              "width": 0.5
             },
             "pattern": {
              "fillmode": "overlay",
              "size": 10,
              "solidity": 0.2
             }
            },
            "type": "bar"
           }
          ],
          "barpolar": [
           {
            "marker": {
             "line": {
              "color": "#E5ECF6",
              "width": 0.5
             },
             "pattern": {
              "fillmode": "overlay",
              "size": 10,
              "solidity": 0.2
             }
            },
            "type": "barpolar"
           }
          ],
          "carpet": [
           {
            "aaxis": {
             "endlinecolor": "#2a3f5f",
             "gridcolor": "white",
             "linecolor": "white",
             "minorgridcolor": "white",
             "startlinecolor": "#2a3f5f"
            },
            "baxis": {
             "endlinecolor": "#2a3f5f",
             "gridcolor": "white",
             "linecolor": "white",
             "minorgridcolor": "white",
             "startlinecolor": "#2a3f5f"
            },
            "type": "carpet"
           }
          ],
          "choropleth": [
           {
            "colorbar": {
             "outlinewidth": 0,
             "ticks": ""
            },
            "type": "choropleth"
           }
          ],
          "contour": [
           {
            "colorbar": {
             "outlinewidth": 0,
             "ticks": ""
            },
            "colorscale": [
             [
              0,
              "#0d0887"
             ],
             [
              0.1111111111111111,
              "#46039f"
             ],
             [
              0.2222222222222222,
              "#7201a8"
             ],
             [
              0.3333333333333333,
              "#9c179e"
             ],
             [
              0.4444444444444444,
              "#bd3786"
             ],
             [
              0.5555555555555556,
              "#d8576b"
             ],
             [
              0.6666666666666666,
              "#ed7953"
             ],
             [
              0.7777777777777778,
              "#fb9f3a"
             ],
             [
              0.8888888888888888,
              "#fdca26"
             ],
             [
              1,
              "#f0f921"
             ]
            ],
            "type": "contour"
           }
          ],
          "contourcarpet": [
           {
            "colorbar": {
             "outlinewidth": 0,
             "ticks": ""
            },
            "type": "contourcarpet"
           }
          ],
          "heatmap": [
           {
            "colorbar": {
             "outlinewidth": 0,
             "ticks": ""
            },
            "colorscale": [
             [
              0,
              "#0d0887"
             ],
             [
              0.1111111111111111,
              "#46039f"
             ],
             [
              0.2222222222222222,
              "#7201a8"
             ],
             [
              0.3333333333333333,
              "#9c179e"
             ],
             [
              0.4444444444444444,
              "#bd3786"
             ],
             [
              0.5555555555555556,
              "#d8576b"
             ],
             [
              0.6666666666666666,
              "#ed7953"
             ],
             [
              0.7777777777777778,
              "#fb9f3a"
             ],
             [
              0.8888888888888888,
              "#fdca26"
             ],
             [
              1,
              "#f0f921"
             ]
            ],
            "type": "heatmap"
           }
          ],
          "heatmapgl": [
           {
            "colorbar": {
             "outlinewidth": 0,
             "ticks": ""
            },
            "colorscale": [
             [
              0,
              "#0d0887"
             ],
             [
              0.1111111111111111,
              "#46039f"
             ],
             [
              0.2222222222222222,
              "#7201a8"
             ],
             [
              0.3333333333333333,
              "#9c179e"
             ],
             [
              0.4444444444444444,
              "#bd3786"
             ],
             [
              0.5555555555555556,
              "#d8576b"
             ],
             [
              0.6666666666666666,
              "#ed7953"
             ],
             [
              0.7777777777777778,
              "#fb9f3a"
             ],
             [
              0.8888888888888888,
              "#fdca26"
             ],
             [
              1,
              "#f0f921"
             ]
            ],
            "type": "heatmapgl"
           }
          ],
          "histogram": [
           {
            "marker": {
             "pattern": {
              "fillmode": "overlay",
              "size": 10,
              "solidity": 0.2
             }
            },
            "type": "histogram"
           }
          ],
          "histogram2d": [
           {
            "colorbar": {
             "outlinewidth": 0,
             "ticks": ""
            },
            "colorscale": [
             [
              0,
              "#0d0887"
             ],
             [
              0.1111111111111111,
              "#46039f"
             ],
             [
              0.2222222222222222,
              "#7201a8"
             ],
             [
              0.3333333333333333,
              "#9c179e"
             ],
             [
              0.4444444444444444,
              "#bd3786"
             ],
             [
              0.5555555555555556,
              "#d8576b"
             ],
             [
              0.6666666666666666,
              "#ed7953"
             ],
             [
              0.7777777777777778,
              "#fb9f3a"
             ],
             [
              0.8888888888888888,
              "#fdca26"
             ],
             [
              1,
              "#f0f921"
             ]
            ],
            "type": "histogram2d"
           }
          ],
          "histogram2dcontour": [
           {
            "colorbar": {
             "outlinewidth": 0,
             "ticks": ""
            },
            "colorscale": [
             [
              0,
              "#0d0887"
             ],
             [
              0.1111111111111111,
              "#46039f"
             ],
             [
              0.2222222222222222,
              "#7201a8"
             ],
             [
              0.3333333333333333,
              "#9c179e"
             ],
             [
              0.4444444444444444,
              "#bd3786"
             ],
             [
              0.5555555555555556,
              "#d8576b"
             ],
             [
              0.6666666666666666,
              "#ed7953"
             ],
             [
              0.7777777777777778,
              "#fb9f3a"
             ],
             [
              0.8888888888888888,
              "#fdca26"
             ],
             [
              1,
              "#f0f921"
             ]
            ],
            "type": "histogram2dcontour"
           }
          ],
          "mesh3d": [
           {
            "colorbar": {
             "outlinewidth": 0,
             "ticks": ""
            },
            "type": "mesh3d"
           }
          ],
          "parcoords": [
           {
            "line": {
             "colorbar": {
              "outlinewidth": 0,
              "ticks": ""
             }
            },
            "type": "parcoords"
           }
          ],
          "pie": [
           {
            "automargin": true,
            "type": "pie"
           }
          ],
          "scatter": [
           {
            "fillpattern": {
             "fillmode": "overlay",
             "size": 10,
             "solidity": 0.2
            },
            "type": "scatter"
           }
          ],
          "scatter3d": [
           {
            "line": {
             "colorbar": {
              "outlinewidth": 0,
              "ticks": ""
             }
            },
            "marker": {
             "colorbar": {
              "outlinewidth": 0,
              "ticks": ""
             }
            },
            "type": "scatter3d"
           }
          ],
          "scattercarpet": [
           {
            "marker": {
             "colorbar": {
              "outlinewidth": 0,
              "ticks": ""
             }
            },
            "type": "scattercarpet"
           }
          ],
          "scattergeo": [
           {
            "marker": {
             "colorbar": {
              "outlinewidth": 0,
              "ticks": ""
             }
            },
            "type": "scattergeo"
           }
          ],
          "scattergl": [
           {
            "marker": {
             "colorbar": {
              "outlinewidth": 0,
              "ticks": ""
             }
            },
            "type": "scattergl"
           }
          ],
          "scattermapbox": [
           {
            "marker": {
             "colorbar": {
              "outlinewidth": 0,
              "ticks": ""
             }
            },
            "type": "scattermapbox"
           }
          ],
          "scatterpolar": [
           {
            "marker": {
             "colorbar": {
              "outlinewidth": 0,
              "ticks": ""
             }
            },
            "type": "scatterpolar"
           }
          ],
          "scatterpolargl": [
           {
            "marker": {
             "colorbar": {
              "outlinewidth": 0,
              "ticks": ""
             }
            },
            "type": "scatterpolargl"
           }
          ],
          "scatterternary": [
           {
            "marker": {
             "colorbar": {
              "outlinewidth": 0,
              "ticks": ""
             }
            },
            "type": "scatterternary"
           }
          ],
          "surface": [
           {
            "colorbar": {
             "outlinewidth": 0,
             "ticks": ""
            },
            "colorscale": [
             [
              0,
              "#0d0887"
             ],
             [
              0.1111111111111111,
              "#46039f"
             ],
             [
              0.2222222222222222,
              "#7201a8"
             ],
             [
              0.3333333333333333,
              "#9c179e"
             ],
             [
              0.4444444444444444,
              "#bd3786"
             ],
             [
              0.5555555555555556,
              "#d8576b"
             ],
             [
              0.6666666666666666,
              "#ed7953"
             ],
             [
              0.7777777777777778,
              "#fb9f3a"
             ],
             [
              0.8888888888888888,
              "#fdca26"
             ],
             [
              1,
              "#f0f921"
             ]
            ],
            "type": "surface"
           }
          ],
          "table": [
           {
            "cells": {
             "fill": {
              "color": "#EBF0F8"
             },
             "line": {
              "color": "white"
             }
            },
            "header": {
             "fill": {
              "color": "#C8D4E3"
             },
             "line": {
              "color": "white"
             }
            },
            "type": "table"
           }
          ]
         },
         "layout": {
          "annotationdefaults": {
           "arrowcolor": "#2a3f5f",
           "arrowhead": 0,
           "arrowwidth": 1
          },
          "autotypenumbers": "strict",
          "coloraxis": {
           "colorbar": {
            "outlinewidth": 0,
            "ticks": ""
           }
          },
          "colorscale": {
           "diverging": [
            [
             0,
             "#8e0152"
            ],
            [
             0.1,
             "#c51b7d"
            ],
            [
             0.2,
             "#de77ae"
            ],
            [
             0.3,
             "#f1b6da"
            ],
            [
             0.4,
             "#fde0ef"
            ],
            [
             0.5,
             "#f7f7f7"
            ],
            [
             0.6,
             "#e6f5d0"
            ],
            [
             0.7,
             "#b8e186"
            ],
            [
             0.8,
             "#7fbc41"
            ],
            [
             0.9,
             "#4d9221"
            ],
            [
             1,
             "#276419"
            ]
           ],
           "sequential": [
            [
             0,
             "#0d0887"
            ],
            [
             0.1111111111111111,
             "#46039f"
            ],
            [
             0.2222222222222222,
             "#7201a8"
            ],
            [
             0.3333333333333333,
             "#9c179e"
            ],
            [
             0.4444444444444444,
             "#bd3786"
            ],
            [
             0.5555555555555556,
             "#d8576b"
            ],
            [
             0.6666666666666666,
             "#ed7953"
            ],
            [
             0.7777777777777778,
             "#fb9f3a"
            ],
            [
             0.8888888888888888,
             "#fdca26"
            ],
            [
             1,
             "#f0f921"
            ]
           ],
           "sequentialminus": [
            [
             0,
             "#0d0887"
            ],
            [
             0.1111111111111111,
             "#46039f"
            ],
            [
             0.2222222222222222,
             "#7201a8"
            ],
            [
             0.3333333333333333,
             "#9c179e"
            ],
            [
             0.4444444444444444,
             "#bd3786"
            ],
            [
             0.5555555555555556,
             "#d8576b"
            ],
            [
             0.6666666666666666,
             "#ed7953"
            ],
            [
             0.7777777777777778,
             "#fb9f3a"
            ],
            [
             0.8888888888888888,
             "#fdca26"
            ],
            [
             1,
             "#f0f921"
            ]
           ]
          },
          "colorway": [
           "#636efa",
           "#EF553B",
           "#00cc96",
           "#ab63fa",
           "#FFA15A",
           "#19d3f3",
           "#FF6692",
           "#B6E880",
           "#FF97FF",
           "#FECB52"
          ],
          "font": {
           "color": "#2a3f5f"
          },
          "geo": {
           "bgcolor": "white",
           "lakecolor": "white",
           "landcolor": "#E5ECF6",
           "showlakes": true,
           "showland": true,
           "subunitcolor": "white"
          },
          "hoverlabel": {
           "align": "left"
          },
          "hovermode": "closest",
          "mapbox": {
           "style": "light"
          },
          "paper_bgcolor": "white",
          "plot_bgcolor": "#E5ECF6",
          "polar": {
           "angularaxis": {
            "gridcolor": "white",
            "linecolor": "white",
            "ticks": ""
           },
           "bgcolor": "#E5ECF6",
           "radialaxis": {
            "gridcolor": "white",
            "linecolor": "white",
            "ticks": ""
           }
          },
          "scene": {
           "xaxis": {
            "backgroundcolor": "#E5ECF6",
            "gridcolor": "white",
            "gridwidth": 2,
            "linecolor": "white",
            "showbackground": true,
            "ticks": "",
            "zerolinecolor": "white"
           },
           "yaxis": {
            "backgroundcolor": "#E5ECF6",
            "gridcolor": "white",
            "gridwidth": 2,
            "linecolor": "white",
            "showbackground": true,
            "ticks": "",
            "zerolinecolor": "white"
           },
           "zaxis": {
            "backgroundcolor": "#E5ECF6",
            "gridcolor": "white",
            "gridwidth": 2,
            "linecolor": "white",
            "showbackground": true,
            "ticks": "",
            "zerolinecolor": "white"
           }
          },
          "shapedefaults": {
           "line": {
            "color": "#2a3f5f"
           }
          },
          "ternary": {
           "aaxis": {
            "gridcolor": "white",
            "linecolor": "white",
            "ticks": ""
           },
           "baxis": {
            "gridcolor": "white",
            "linecolor": "white",
            "ticks": ""
           },
           "bgcolor": "#E5ECF6",
           "caxis": {
            "gridcolor": "white",
            "linecolor": "white",
            "ticks": ""
           }
          },
          "title": {
           "x": 0.05
          },
          "xaxis": {
           "automargin": true,
           "gridcolor": "white",
           "linecolor": "white",
           "ticks": "",
           "title": {
            "standoff": 15
           },
           "zerolinecolor": "white",
           "zerolinewidth": 2
          },
          "yaxis": {
           "automargin": true,
           "gridcolor": "white",
           "linecolor": "white",
           "ticks": "",
           "title": {
            "standoff": 15
           },
           "zerolinecolor": "white",
           "zerolinewidth": 2
          }
         }
        },
        "title": {
         "text": "Current Temperature by City"
        },
        "xaxis": {
         "anchor": "y",
         "categoryarray": [
          "Bogota",
          "Medellín",
          "Santiago de Cali",
          "Barranquilla",
          "Cartagena"
         ],
         "categoryorder": "array",
         "domain": [
          0,
          1
         ],
         "title": {
          "text": "City"
         }
        },
        "yaxis": {
         "anchor": "x",
         "domain": [
          0,
          1
         ],
         "title": {
          "text": "Temperature (F)"
         }
        }
       }
      }
     },
     "metadata": {},
     "output_type": "display_data"
    }
   ],
   "source": [
    "data = []\n",
    "for city_data in weather_data:\n",
    "    city = city_data[\"name\"]\n",
    "    country = city_data[\"sys\"][\"country\"]\n",
    "    temp_c = city_data[\"main\"][\"temp\"] - 273.15\n",
    "    temp_f = temp_c * 9/5 + 32\n",
    "    humidity = city_data[\"main\"][\"humidity\"]\n",
    "    wind_speed = city_data[\"wind\"][\"speed\"]\n",
    "    weather_desc = city_data[\"weather\"][0][\"description\"]\n",
    "    data.append((city, country, temp_c, temp_f, humidity, wind_speed, weather_desc))\n",
    "df = pd.DataFrame(data, columns=[\"City\", \"Country\", \"Temperature (C)\", \"Temperature (F)\", \"Humidity\", \"Wind Speed (m/s)\", \"Weather Description\"])\n",
    "fig = px.bar(df, x=\"City\", y=\"Temperature (F)\", color=\"City\", title=\"Current Temperature by City\",\n",
    "             hover_data=[\"Country\", \"Temperature (C)\", \"Temperature (F)\", \"Humidity\", \"Wind Speed (m/s)\", \"Weather Description\"])\n",
    "fig.show()\n"
   ]
  }
 ],
 "metadata": {
  "kernelspec": {
   "display_name": "Python 3",
   "language": "python",
   "name": "python3"
  },
  "language_info": {
   "codemirror_mode": {
    "name": "ipython",
    "version": 3
   },
   "file_extension": ".py",
   "mimetype": "text/x-python",
   "name": "python",
   "nbconvert_exporter": "python",
   "pygments_lexer": "ipython3",
   "version": "3.9.5"
  },
  "orig_nbformat": 4
 },
 "nbformat": 4,
 "nbformat_minor": 2
}
